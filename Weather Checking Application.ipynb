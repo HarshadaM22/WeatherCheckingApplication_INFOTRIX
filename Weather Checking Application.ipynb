{
 "cells": [
  {
   "cell_type": "code",
   "execution_count": null,
   "id": "31534f84-3df8-44f6-adb9-b68dab54c816",
   "metadata": {},
   "outputs": [
    {
     "name": "stdout",
     "output_type": "stream",
     "text": [
      "\n",
      "Options:\n",
      "1. Check Weather by City\n",
      "2. Add City to Favorites\n",
      "3. Remove City from Favorites\n",
      "4. List Favorite Cities\n",
      "5. Auto-Refresh Favorites\n",
      "6. Quit\n"
     ]
    },
    {
     "name": "stdin",
     "output_type": "stream",
     "text": [
      "Enter your choice:  1\n",
      "Enter city name:  Gujrat\n"
     ]
    },
    {
     "name": "stdout",
     "output_type": "stream",
     "text": [
      "Weather in Gujrat (evening):\n",
      "Temperature: 30.98°C\n",
      "Condition: Clear sky\n",
      "\n",
      "Options:\n",
      "1. Check Weather by City\n",
      "2. Add City to Favorites\n",
      "3. Remove City from Favorites\n",
      "4. List Favorite Cities\n",
      "5. Auto-Refresh Favorites\n",
      "6. Quit\n"
     ]
    },
    {
     "name": "stdin",
     "output_type": "stream",
     "text": [
      "Enter your choice:  1\n",
      "Enter city name:  Pune\n"
     ]
    },
    {
     "name": "stdout",
     "output_type": "stream",
     "text": [
      "Weather in Pune (evening):\n",
      "Temperature: 22.1°C\n",
      "Condition: Light rain\n",
      "\n",
      "Options:\n",
      "1. Check Weather by City\n",
      "2. Add City to Favorites\n",
      "3. Remove City from Favorites\n",
      "4. List Favorite Cities\n",
      "5. Auto-Refresh Favorites\n",
      "6. Quit\n"
     ]
    },
    {
     "name": "stdin",
     "output_type": "stream",
     "text": [
      "Enter your choice:  1\n",
      "Enter city name:  Bangalore\n"
     ]
    },
    {
     "name": "stdout",
     "output_type": "stream",
     "text": [
      "Weather in Bengaluru (evening):\n",
      "Temperature: 21.8°C\n",
      "Condition: Scattered clouds\n",
      "\n",
      "Options:\n",
      "1. Check Weather by City\n",
      "2. Add City to Favorites\n",
      "3. Remove City from Favorites\n",
      "4. List Favorite Cities\n",
      "5. Auto-Refresh Favorites\n",
      "6. Quit\n"
     ]
    },
    {
     "name": "stdin",
     "output_type": "stream",
     "text": [
      "Enter your choice:  1\n",
      "Enter city name:  Kalyan\n"
     ]
    },
    {
     "name": "stdout",
     "output_type": "stream",
     "text": [
      "Weather in Kalyān (evening):\n",
      "Temperature: 27.97°C\n",
      "Condition: Overcast clouds\n",
      "\n",
      "Options:\n",
      "1. Check Weather by City\n",
      "2. Add City to Favorites\n",
      "3. Remove City from Favorites\n",
      "4. List Favorite Cities\n",
      "5. Auto-Refresh Favorites\n",
      "6. Quit\n"
     ]
    },
    {
     "name": "stdin",
     "output_type": "stream",
     "text": [
      "Enter your choice:  1\n",
      "Enter city name:  Kalyan\n"
     ]
    },
    {
     "name": "stdout",
     "output_type": "stream",
     "text": [
      "Weather in Kalyān (evening):\n",
      "Temperature: 27.97°C\n",
      "Condition: Overcast clouds\n",
      "\n",
      "Options:\n",
      "1. Check Weather by City\n",
      "2. Add City to Favorites\n",
      "3. Remove City from Favorites\n",
      "4. List Favorite Cities\n",
      "5. Auto-Refresh Favorites\n",
      "6. Quit\n"
     ]
    }
   ],
   "source": [
    "# requests library is used for making HTTP requests to interact with web services, APIs, or websites.\n",
    "# time - access to various functions and classes that allow you to work with time-related operations\n",
    "import requests\n",
    "import time\n",
    "from datetime import datetime\n",
    "\n",
    "# Global variables \n",
    "api_key = \"49b543f88ecfa901713f20cfd6ebd1cc\"\n",
    "base_url = \"https://api.openweathermap.org/data/2.5/weather\"\n",
    "# Store favorite cities here\n",
    "favorite_cities = []  \n",
    "\n",
    "# Function to get weather data by city name\n",
    "def get_weather_by_city(city_name):\n",
    "    params = {\n",
    "        \"q\": city_name,\n",
    "        \"appid\": api_key,\n",
    "        \"units\": \"metric\" \n",
    "    }\n",
    "    response = requests.get(base_url, params=params)\n",
    "    data = response.json()\n",
    "    return data\n",
    "\n",
    "# Function to determine the time of day\n",
    "def get_time_of_day():\n",
    "    current_hour = datetime.now().hour\n",
    "    if 5 <= current_hour < 12:\n",
    "        return \"morning\"\n",
    "    elif 12 <= current_hour < 18:\n",
    "        return \"afternoon\"\n",
    "    else:\n",
    "        return \"evening\"\n",
    "\n",
    "# Function to display weather information\n",
    "def display_weather(data):\n",
    "    if data[\"cod\"] == 200:\n",
    "        city = data[\"name\"]\n",
    "        temperature = data[\"main\"][\"temp\"]\n",
    "        weather_desc = data[\"weather\"][0][\"description\"]\n",
    "        time_of_day = get_time_of_day()\n",
    "        print(f\"Weather in {city} ({time_of_day}):\")\n",
    "        print(f\"Temperature: {temperature}°C\")\n",
    "        print(f\"Condition: {weather_desc.capitalize()}\")\n",
    "    else:\n",
    "        print(\"City not found or API error.\")\n",
    "\n",
    "# Function to add a city to favorites\n",
    "def add_favorite_city(city_name):\n",
    "    favorite_cities.append(city_name)\n",
    "\n",
    "# Function to remove a city from favorites\n",
    "def remove_favorite_city(city_name):\n",
    "    if city_name in favorite_cities:\n",
    "        favorite_cities.remove(city_name)\n",
    "    else:\n",
    "        print(\"City not found in favorites.\")\n",
    "\n",
    "# Function to list favorite cities\n",
    "def list_favorite_cities():\n",
    "    print(\"Favorite Cities:\")\n",
    "    for city in favorite_cities:\n",
    "        print(city)\n",
    "\n",
    "# Function for auto-refresh\n",
    "def auto_refresh(interval_min=15, interval_max=30):\n",
    "    while True:\n",
    "        for city in favorite_cities:\n",
    "            data = get_weather_by_city(city)\n",
    "            display_weather(data)\n",
    "        refresh_interval = random.randint(interval_min, interval_max) * 60  # Convert to seconds\n",
    "        time.sleep(refresh_interval)\n",
    "\n",
    "while True:\n",
    "    print(\"\\nOptions:\")\n",
    "    print(\"1. Check Weather by City\")\n",
    "    print(\"2. Add City to Favorites\")\n",
    "    print(\"3. Remove City from Favorites\")\n",
    "    print(\"4. List Favorite Cities\")\n",
    "    print(\"5. Auto-Refresh Favorites\")\n",
    "    print(\"6. Quit\")\n",
    "\n",
    "    choice = input(\"Enter your choice: \")\n",
    "\n",
    "    if choice == \"1\":\n",
    "        city_name = input(\"Enter city name: \")\n",
    "        data = get_weather_by_city(city_name)\n",
    "        display_weather(data)\n",
    "    elif choice == \"2\":\n",
    "        city_name = input(\"Enter city name to add to favorites: \")\n",
    "        add_favorite_city(city_name)\n",
    "        print(f\"{city_name} added to favorites.\")\n",
    "    elif choice == \"3\":\n",
    "        city_name = input(\"Enter city name to remove from favorites: \")\n",
    "        remove_favorite_city(city_name)\n",
    "    elif choice == \"4\":\n",
    "        list_favorite_cities()\n",
    "    elif choice == \"5\":\n",
    "        auto_refresh()\n",
    "    elif choice == \"6\":\n",
    "        break\n",
    "    else:\n",
    "        print(\"Invalid choice. Please select a valid option.\")\n",
    "        \n"
   ]
  },
  {
   "cell_type": "code",
   "execution_count": null,
   "id": "c4fbe852-a15c-490f-80e2-ef25f4c7abd7",
   "metadata": {},
   "outputs": [],
   "source": []
  }
 ],
 "metadata": {
  "kernelspec": {
   "display_name": "Python 3 (ipykernel)",
   "language": "python",
   "name": "python3"
  },
  "language_info": {
   "codemirror_mode": {
    "name": "ipython",
    "version": 3
   },
   "file_extension": ".py",
   "mimetype": "text/x-python",
   "name": "python",
   "nbconvert_exporter": "python",
   "pygments_lexer": "ipython3",
   "version": "3.11.5"
  }
 },
 "nbformat": 4,
 "nbformat_minor": 5
}
